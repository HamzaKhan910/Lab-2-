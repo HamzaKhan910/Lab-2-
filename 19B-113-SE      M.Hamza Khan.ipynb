{
 "cells": [
  {
   "cell_type": "markdown",
   "metadata": {},
   "source": [
    "# EX 2.1"
   ]
  },
  {
   "cell_type": "code",
   "execution_count": 12,
   "metadata": {},
   "outputs": [
    {
     "name": "stdout",
     "output_type": "stream",
     "text": [
      "15\n",
      "52.333333333333336\n",
      "5\n",
      "38\n",
      "1024\n",
      "3\n"
     ]
    },
    {
     "data": {
      "text/plain": [
       "29.95"
      ]
     },
     "execution_count": 12,
     "metadata": {},
     "output_type": "execute_result"
    }
   ],
   "source": [
    "# A\n",
    "sol=1+2+3+4+5\n",
    "print(sol)\n",
    "\n",
    "# B\n",
    "sara=23\n",
    "mark=19\n",
    "fatima=31\n",
    "avg_age=(sara+mark+fatima/3)\n",
    "print(avg_age)\n",
    "\n",
    "# C\n",
    "a=73\n",
    "b=403\n",
    "nt=b//a\n",
    "print(nt)\n",
    "\n",
    "# D\n",
    "a=73\n",
    "b=403\n",
    "nt=b%a\n",
    "print(nt)\n",
    "\n",
    "# E\n",
    "x=2**10\n",
    "print(x)\n",
    "\n",
    "# F\n",
    "mark=57\n",
    "sara=54\n",
    "avg_height=mark-sara\n",
    "print(avg_height)\n",
    "\n",
    "# G\n",
    "p1=34.99\n",
    "p2=29.95\n",
    "p3=31.50\n",
    "min(p1,p2,p3)"
   ]
  },
  {
   "cell_type": "markdown",
   "metadata": {},
   "source": [
    "# EX 2.4"
   ]
  },
  {
   "cell_type": "code",
   "execution_count": 32,
   "metadata": {},
   "outputs": [
    {
     "name": "stdout",
     "output_type": "stream",
     "text": [
      "antbatcod\n",
      "antantant batbatbat codcodcod\n",
      "antantantantantantantantantant\n",
      "antantantantantantantantantant\n",
      "antbatbatcodcodcod\n",
      "ant batbat codcodcod\n",
      "antbatantbatantbatantbatantbatantbatantbat\n",
      "antbatantbatantbatantbatantbatantbatantbat\n",
      "batbatcodbatbatcodbatbatcodbatbatcodbatbatcod\n",
      "batbatcodbatbatcodbatbatcodbatbatcodbatbatcod\n"
     ]
    }
   ],
   "source": [
    "s1=\"ant\"\n",
    "s2=\"bat\"\n",
    "s3=\"cod\"\n",
    "\n",
    "# A\n",
    "sumStr=s1+s2+s3\n",
    "s1Mul=s1*3\n",
    "s2Mul=s2*3\n",
    "s3Mul=s3*3\n",
    "print(sumStr)\n",
    "print(s1Mul,s2Mul,s3Mul)\n",
    "\n",
    "# B\n",
    "sumStr=s1+s1+s1+s1+s1+s1+s1+s1+s1+s1\n",
    "mul=s1*10\n",
    "print(sumStr)\n",
    "print(mul)\n",
    "\n",
    "# C\n",
    "sumStr=s1+s2+s2+s3+s3+s3\n",
    "s1Mul=s1*1\n",
    "s2Mul=s2*2\n",
    "s3Mul=s3*3\n",
    "print(sumStr)\n",
    "print(s1Mul,s2Mul,s3Mul)\n",
    "\n",
    "# D\n",
    "sumStr=s1+s2+s1+s2+s1+s2+s1+s2+s1+s2+s1+s2+s1+s2\n",
    "mul=('ant''bat')*7\n",
    "print(sumStr)\n",
    "print(mul)\n",
    "\n",
    "# E\n",
    "sumStr=(s2*2+s3)+(s2*2+s3)+(s2*2+s3)+(s2*2+s3)+(s2*2+s3)\n",
    "mul=('bat''bat''cod')*5\n",
    "print(sumStr)\n",
    "print(mul)"
   ]
  },
  {
   "cell_type": "markdown",
   "metadata": {},
   "source": [
    "#  EX 2.3"
   ]
  },
  {
   "cell_type": "code",
   "execution_count": 33,
   "metadata": {},
   "outputs": [
    {
     "name": "stdout",
     "output_type": "stream",
     "text": [
      "25\n"
     ]
    }
   ],
   "source": [
    "# A\n",
    "a=3\n",
    "\n",
    "# B\n",
    "b=4\n",
    "\n",
    "sum_mul=a*a+b*b\n",
    "print(sum_mul)"
   ]
  },
  {
   "cell_type": "markdown",
   "metadata": {},
   "source": [
    "# EX 2.2"
   ]
  },
  {
   "cell_type": "code",
   "execution_count": 75,
   "metadata": {},
   "outputs": [
    {
     "name": "stdout",
     "output_type": "stream",
     "text": [
      "False\n",
      "True\n",
      "True\n",
      "True\n",
      "False\n",
      "True\n"
     ]
    }
   ],
   "source": [
    "# A\n",
    "a=2\n",
    "b=2\n",
    "sumab=a+b\n",
    "d=sumab<a+b\n",
    "print(d)\n",
    "\n",
    "\n",
    "# B\n",
    "b=7//3\n",
    "d=b==1+1\n",
    "print(d)\n",
    "\n",
    "# C\n",
    "a=3**2\n",
    "b=4**2\n",
    "sumab=a+b\n",
    "d=sumab==25\n",
    "print(d)\n",
    "\n",
    "# D\n",
    "a=2\n",
    "b=4\n",
    "c=6\n",
    "sumab=a+b+c\n",
    "d=sumab==12\n",
    "print(d)\n",
    "\n",
    "# E\n",
    "a=1387\n",
    "b=19\n",
    "a/b==0\n",
    "\n",
    "# F\n",
    "a=31\n",
    "d=31/2\n",
    "s=d is \"even\"\n",
    "print(s)\n",
    "\n",
    "# G\n",
    "a=34.99\n",
    "b=29.56\n",
    "c=31.50\n",
    "d=min(a,b,c)<30.00\n",
    "print(d)"
   ]
  },
  {
   "cell_type": "markdown",
   "metadata": {},
   "source": [
    "# EX 2.5"
   ]
  },
  {
   "cell_type": "code",
   "execution_count": 104,
   "metadata": {},
   "outputs": [
    {
     "name": "stdout",
     "output_type": "stream",
     "text": [
      "0\n",
      "1\n",
      "2\n",
      "3\n",
      "4\n"
     ]
    }
   ],
   "source": [
    "a=(\"0123456789\")\n",
    "# A\n",
    "print(a[0])\n",
    "# B\n",
    "print(a[1])\n",
    "# C\n",
    "print(a[2])\n",
    "# D\n",
    "print(a[3])\n",
    "# E\n",
    "print(a[4])"
   ]
  },
  {
   "cell_type": "markdown",
   "metadata": {},
   "source": [
    "# EX 2.6"
   ]
  },
  {
   "cell_type": "code",
   "execution_count": 87,
   "metadata": {},
   "outputs": [
    {
     "data": {
      "text/plain": [
       "{'badminton', 'ball', 'barn', 'basket', 'bat'}"
      ]
     },
     "execution_count": 87,
     "metadata": {},
     "output_type": "execute_result"
    }
   ],
   "source": [
    "a={\"bat\",\"ball\",\"barn\",\"basket\",\"badminton\"}\n",
    "(a)"
   ]
  },
  {
   "cell_type": "markdown",
   "metadata": {},
   "source": [
    "# EX 2.7"
   ]
  },
  {
   "cell_type": "code",
   "execution_count": 103,
   "metadata": {},
   "outputs": [
    {
     "name": "stdout",
     "output_type": "stream",
     "text": [
      "2\n",
      "4\n",
      "10\n",
      "None\n",
      "6.777777777777778\n"
     ]
    }
   ],
   "source": [
    "grades=[9,7,7,10,3,9,6,6,2]\n",
    "\n",
    "# A\n",
    "a=grades.count(7)\n",
    "print(a)\n",
    "\n",
    "# B\n",
    "a=grades[-1]=4\n",
    "print(a)\n",
    "\n",
    "# C\n",
    "a=max(grades)\n",
    "print(a)\n",
    "\n",
    "# D\n",
    "a=grades.sort()\n",
    "print(a)\n",
    "\n",
    "# E\n",
    "import statistics\n",
    "print(statistics.mean(grades))"
   ]
  },
  {
   "cell_type": "markdown",
   "metadata": {},
   "source": [
    "# EX 2.9"
   ]
  },
  {
   "cell_type": "code",
   "execution_count": 109,
   "metadata": {},
   "outputs": [
    {
     "name": "stdout",
     "output_type": "stream",
     "text": [
      "<class 'int'>\n",
      "<class 'float'>\n",
      "<class 'int'>\n",
      "<class 'bool'>\n"
     ]
    }
   ],
   "source": [
    "# A\n",
    "A=False+False\n",
    "print(type(A))\n",
    "\n",
    "# B\n",
    "A=2*3**2.0\n",
    "print(type(A))\n",
    "\n",
    "# C\n",
    "A=4//2+4%2\n",
    "print(type(A))\n",
    "\n",
    "# D\n",
    "A=2+3==4 or 5>=5\n",
    "print(type(A))"
   ]
  },
  {
   "cell_type": "markdown",
   "metadata": {},
   "source": [
    "# EX 2.10"
   ]
  },
  {
   "cell_type": "code",
   "execution_count": 118,
   "metadata": {},
   "outputs": [
    {
     "name": "stdout",
     "output_type": "stream",
     "text": [
      "6.708203932499369\n",
      "The value if hypotenuse is not 5\n",
      "314.1592653589793 sq.meter\n",
      "False\n",
      "False\n"
     ]
    }
   ],
   "source": [
    "# A\n",
    "import math\n",
    "a=3\n",
    "b=6\n",
    "c=a**2+b**2\n",
    "d=math.sqrt(c)\n",
    "print(d)\n",
    "\n",
    "# B\n",
    "if d==5:\n",
    "    print(\"The value of hypotenuse is 5\")\n",
    "else:\n",
    "    print(\"The value if hypotenuse is not 5\")\n",
    "    \n",
    "# C\n",
    "from math import pi\n",
    "a=10\n",
    "A=pi*a**2\n",
    "print(A,str('sq.meter'))\n",
    "\n",
    "# D\n",
    "r=10\n",
    "x=2\n",
    "y=1\n",
    "a=x+y==r\n",
    "b=x**2+y**2==r**2\n",
    "print(a)\n",
    "print(b)"
   ]
  },
  {
   "cell_type": "markdown",
   "metadata": {},
   "source": [
    "# EX 2.8"
   ]
  },
  {
   "cell_type": "code",
   "execution_count": 1,
   "metadata": {},
   "outputs": [
    {
     "name": "stdout",
     "output_type": "stream",
     "text": [
      "((2+3) ==4) or (a >=5)\n",
      "(((lst[1]) * (-3)) <(-10)) ==0\n",
      "(((lst[1]) * (-3)) <(-10)) in [0,true]\n",
      "2 * (3**2)\n",
      "(4/2) in [1,2,3]\n"
     ]
    }
   ],
   "source": [
    "# A\n",
    "print('((2+3) ==4) or (a >=5)')\n",
    "# B\n",
    "print('(((lst[1]) * (-3)) <(-10)) ==0')\n",
    "# C\n",
    "print(\"(((lst[1]) * (-3)) <(-10)) in [0,true]\")\n",
    "# D\n",
    "print('2 * (3**2)')\n",
    "# E\n",
    "print('(4/2) in [1,2,3]')"
   ]
  },
  {
   "cell_type": "markdown",
   "metadata": {},
   "source": [
    "# EX 2.11"
   ]
  },
  {
   "cell_type": "code",
   "execution_count": 2,
   "metadata": {},
   "outputs": [
    {
     "name": "stdout",
     "output_type": "stream",
     "text": [
      "[-28]\n",
      "127.76470588235294\n",
      "9.5367431640625e-07\n",
      "71\n",
      "34\n"
     ]
    }
   ],
   "source": [
    "lst =[-7-6-5-4-3-2-1]\n",
    "print(lst)\n",
    "average_age = 9*17+24*10+21*11+27*12\n",
    "x = average1 = average_age/17+24+21+27\n",
    "print(average1)\n",
    "a = 2**-20\n",
    "print(a)\n",
    "b = 4356//61\n",
    "print(b)\n",
    "c = 4365%61 \n",
    "print(c)"
   ]
  },
  {
   "cell_type": "markdown",
   "metadata": {},
   "source": [
    "# EX 2.12"
   ]
  },
  {
   "cell_type": "code",
   "execution_count": 3,
   "metadata": {},
   "outputs": [
    {
     "name": "stdout",
     "output_type": "stream",
     "text": [
      "+-\n",
      "-+-\n",
      "+--\n",
      "+--+--\n",
      "+--+--+--+--+--\n"
     ]
    }
   ],
   "source": [
    "a = '+'\n",
    "b = '-'\n",
    "print(a+b)\n",
    "print(b+a+b)\n",
    "print(a+b+b)\n",
    "print(a+b+b+a+b+b)\n",
    "print(a+b+b+a+b+b+a+b+b+a+b+b+a+b+b)"
   ]
  },
  {
   "cell_type": "markdown",
   "metadata": {},
   "source": [
    "# EX 2.13"
   ]
  },
  {
   "cell_type": "code",
   "execution_count": 4,
   "metadata": {},
   "outputs": [
    {
     "name": "stdout",
     "output_type": "stream",
     "text": [
      "a\n",
      "c\n",
      "y\n",
      "z\n",
      "q\n"
     ]
    }
   ],
   "source": [
    "s = 'abcdefghijklmnopqrstuvwxyz'\n",
    "print(s[0])\n",
    "print(s[2])\n",
    "print(s[24])\n",
    "print(s[25])\n",
    "print(s[16])"
   ]
  },
  {
   "cell_type": "markdown",
   "metadata": {},
   "source": [
    "# EX 2.14"
   ]
  },
  {
   "cell_type": "code",
   "execution_count": 5,
   "metadata": {},
   "outputs": [
    {
     "name": "stdout",
     "output_type": "stream",
     "text": [
      "True\n",
      "False\n",
      "False\n",
      "False\n",
      "True\n",
      "False\n",
      "False\n"
     ]
    }
   ],
   "source": [
    "s = 'goodbye'\n",
    "print(s[0]=='g')\n",
    "print(s[6]=='g')\n",
    "print(s[0]=='g' and s[1]=='a')\n",
    "print(s[-2]=='x')\n",
    "print(s[3]=='d')\n",
    "print(s[0]==s[1])\n",
    "print(s[1]+s[2]+s[3]+s[4]=='tion')"
   ]
  },
  {
   "cell_type": "markdown",
   "metadata": {},
   "source": [
    "# EX 2.15"
   ]
  },
  {
   "cell_type": "code",
   "execution_count": 6,
   "metadata": {},
   "outputs": [
    {
     "name": "stdout",
     "output_type": "stream",
     "text": [
      "number of characters : 17\n",
      "the number of characters : 15\n",
      "\\dictionary gives the word in yhis order\n",
      "['mis interpretation', 'misrepresentation']\n",
      "the number of time e repeates in is ﬂoccinaucinihilipiliﬁcation\n",
      "the number of characters are : 17\n",
      "the number of characters arev : 10\n"
     ]
    }
   ],
   "source": [
    "a = 'anachronistically'\n",
    "b = 'counterintutive'\n",
    "print(\"number of characters : \"+str(len(a)))\n",
    "print(\"the number of characters : \"+str(len(b)))\n",
    "\n",
    "dictionary = ['misrepresentation','mis interpretation' ]\n",
    "dictionary.sort()\n",
    "print(\"\\dictionary gives the word in yhis order\")\n",
    "print(dictionary)\n",
    "word = 'ﬂoccinaucinihilipiliﬁcation'\n",
    "print(\"the number of time e repeates in is \"+str(word))\n",
    "word1 = 'counterrevolution'\n",
    "word2 = 'resolution'\n",
    "print(\"the number of characters are : \" +str(len(word1)))\n",
    "print(\"the number of characters arev : \"+str(len(word2)))"
   ]
  },
  {
   "cell_type": "markdown",
   "metadata": {},
   "source": [
    "# EX 2.16"
   ]
  },
  {
   "cell_type": "code",
   "execution_count": 7,
   "metadata": {},
   "outputs": [
    {
     "name": "stdout",
     "output_type": "stream",
     "text": [
      "John 'Fitzgerald kennedy\n"
     ]
    }
   ],
   "source": [
    "a,b =6,7\n",
    "c = (a+b)/2\n",
    "inventory = [\"paper\",\"staples\",\"pencils\"]\n",
    "first, middle, last = \"John\",\"'Fitzgerald\",\"kennedy\"\n",
    "fullname = first+\" \"+middle+\" \"+last\n",
    "print(fullname)"
   ]
  },
  {
   "cell_type": "markdown",
   "metadata": {},
   "source": [
    "# EX 2.17"
   ]
  },
  {
   "cell_type": "code",
   "execution_count": 10,
   "metadata": {},
   "outputs": [
    {
     "name": "stdout",
     "output_type": "stream",
     "text": [
      "True\n",
      "False\n",
      "True\n",
      "True\n",
      "False\n",
      "False\n"
     ]
    }
   ],
   "source": [
    "a=17-9 < 10\n",
    "print(a)\n",
    "a=len(inventory) > 5*len(fullname)\n",
    "print(a)\n",
    "a=c <= 24\n",
    "print(a)\n",
    "a=(6.75 < a and 6.75 > b) or (6.75 < b and 6.75 > a)\n",
    "print(a)\n",
    "a=len(middle) > len(first) and len(middle) < len(last)\n",
    "print(a)\n",
    "a=len(inventory)==0 or len(inventory) > 10\n",
    "print(a)"
   ]
  },
  {
   "cell_type": "markdown",
   "metadata": {},
   "source": [
    "# EX 2.18"
   ]
  },
  {
   "cell_type": "code",
   "execution_count": 12,
   "metadata": {},
   "outputs": [
    {
     "name": "stdout",
     "output_type": "stream",
     "text": [
      "['rose', 'bougainvillea', 'yucca', 'marigold', 'daylilly', 'liiy of the valley']\n",
      "False\n",
      "['rose', 'bougainvillea', 'yucca']\n",
      "liiy of the valley\n"
     ]
    }
   ],
   "source": [
    "flowers = ['rose','bougainvillea','yucca','marigold','daylilly','liiy of the valley']\n",
    "# A\n",
    "print(flowers)\n",
    "# B\n",
    "print('potato' in flowers)\n",
    "thorny=flowers[:3]\n",
    "# C\n",
    "print(thorny)\n",
    "poisnous = flowers[-1]\n",
    "# D\n",
    "print(poisnous)\n",
    "dangerous = [thorny] + [poisnous]"
   ]
  },
  {
   "cell_type": "markdown",
   "metadata": {},
   "source": [
    "# EX 2.19"
   ]
  },
  {
   "cell_type": "code",
   "execution_count": 13,
   "metadata": {},
   "outputs": [
    {
     "name": "stdout",
     "output_type": "stream",
     "text": [
      "0\n",
      "6\n",
      "0.0 %\n",
      "['N', 'N', 'N', 'N', 'N', 'N', 'Y', 'Y', 'Y', 'Y', 'Y']\n",
      "at 6 Y will occur for the first time\n"
     ]
    }
   ],
   "source": [
    "answers = ['Y','N','N','Y','N','Y','Y','Y','N','N','N']\n",
    "numYes=answers.count('y')\n",
    "# A\n",
    "print(numYes)\n",
    "numNo=answers.count('N')\n",
    "# B\n",
    "print(numNo)\n",
    "percentYes=(numYes/len(answers))*100\n",
    "# C\n",
    "print(percentYes,'%')\n",
    "answers.sort()\n",
    "# D\n",
    "print(answers)\n",
    "f=answers.count('N')\n",
    "# E\n",
    "print(\"at\",f,answers[f],\"will occur for the first time\")"
   ]
  },
  {
   "cell_type": "markdown",
   "metadata": {},
   "source": [
    "# EX 2.20"
   ]
  },
  {
   "cell_type": "code",
   "execution_count": 16,
   "metadata": {},
   "outputs": [
    {
     "name": "stdout",
     "output_type": "stream",
     "text": [
      "top\n"
     ]
    }
   ],
   "source": [
    "s='pot'\n",
    "print(s[::-1])"
   ]
  },
  {
   "cell_type": "markdown",
   "metadata": {},
   "source": [
    "# EX 2.21"
   ]
  },
  {
   "cell_type": "code",
   "execution_count": 14,
   "metadata": {},
   "outputs": [
    {
     "name": "stdout",
     "output_type": "stream",
     "text": [
      "DK\n"
     ]
    }
   ],
   "source": [
    "s = 'Daniyal'\n",
    "t = 'Khan'\n",
    "print(s[0]+t[0])"
   ]
  },
  {
   "cell_type": "markdown",
   "metadata": {},
   "source": [
    "# EX 2.22"
   ]
  },
  {
   "cell_type": "code",
   "execution_count": 15,
   "metadata": {},
   "outputs": [
    {
     "name": "stdout",
     "output_type": "stream",
     "text": [
      "14\n"
     ]
    }
   ],
   "source": [
    "lst = [3,7,-2,12]\n",
    "print(max(lst)-min(lst))"
   ]
  },
  {
   "cell_type": "markdown",
   "metadata": {},
   "source": [
    "# EX 2.23"
   ]
  },
  {
   "cell_type": "code",
   "execution_count": 1,
   "metadata": {},
   "outputs": [
    {
     "name": "stdout",
     "output_type": "stream",
     "text": [
      "['Jan', 'Feb', 'Mar', 'Apr', 'May']\n",
      "['Jan', 'Feb', 'Mar', 'May', 'Jun']\n",
      "['Jan', 'Feb', 'Mar']\n",
      "['Jan', 'Feb', 'Mar']\n",
      "['Jan', 'Feb', 'May']\n",
      "['Jan', 'Feb', 'May']\n",
      "['May', 'Mar', 'Feb', 'Jan']\n",
      "['May', 'Mar', 'Feb', 'Jan']\n",
      "['Feb', 'Jan', 'Mar', 'May']\n",
      "['Feb', 'Jan', 'Mar', 'May']\n"
     ]
    }
   ],
   "source": [
    "#insert 'Apr' between 'Mar' and 'May'\n",
    "monthsL=['Jan','Feb','Mar','May']\n",
    "monthsT=['Jan','Feb','Mar','May']\n",
    "monthsT.insert(3,\"Apr\")\n",
    "print(monthsT)\n",
    "#append string 'Jun'\n",
    "monthsL=['Jan','Feb','Mar','May']\n",
    "monthsT=['Jan','Feb','Mar','May']\n",
    "monthsT.append(\"Jun\")\n",
    "print(monthsT)\n",
    "#pop the container\n",
    "monthsL=['Jan','Feb','Mar','May']\n",
    "monthsT=['Jan','Feb','Mar','May']\n",
    "monthsL.pop()\n",
    "monthsT.pop()\n",
    "print(monthsL)\n",
    "print(monthsT)\n",
    "#remove the second item in the container\n",
    "monthsL=['Jan','Feb','Mar','May']\n",
    "monthsT=['Jan','Feb','Mar','May']\n",
    "del monthsT[2]\n",
    "del monthsL[2]\n",
    "print(monthsT)\n",
    "print(monthsL)\n",
    "#reverse the order of the container\n",
    "monthsL=['Jan','Feb','Mar','May']\n",
    "monthsT=['Jan','Feb','Mar','May']\n",
    "monthsL.reverse()\n",
    "monthsT.reverse()\n",
    "print(monthsL)\n",
    "print(monthsT)\n",
    "#sort the container\n",
    "monthsL=['Jan','Feb','Mar','May']\n",
    "monthsT=['Jan','Feb','Mar','May']\n",
    "monthsL.sort()\n",
    "monthsT.sort()\n",
    "print(monthsL)\n",
    "print(monthsT)"
   ]
  },
  {
   "cell_type": "markdown",
   "metadata": {},
   "source": [
    "# EX 2.27"
   ]
  },
  {
   "cell_type": "code",
   "execution_count": 14,
   "metadata": {},
   "outputs": [
    {
     "name": "stdout",
     "output_type": "stream",
     "text": [
      "Enter Length of the Ladder : 19\n",
      "Enter Angle of the Ladder : 30\n",
      "The height of the Ladder is : 9.499999999999998\n",
      "1.3091666666666666\n",
      "0.0\n",
      "0.7855\n",
      "1.3964444444444444\n"
     ]
    }
   ],
   "source": [
    "import math\n",
    "hyp = float(input(\"Enter Length of the Ladder : \"))\n",
    "theta = float(input(\"Enter Angle of the Ladder : \"))\n",
    "rad = math.pi * (theta)/180\n",
    "perp = hyp * math.sin(rad)\n",
    "print (\"The height of the Ladder is :\", perp)\n",
    "\n",
    "# A\n",
    "length1=16\n",
    "degrees1=75\n",
    "radians1=(3.142*degrees1)/180\n",
    "print(radians1)\n",
    "\n",
    "# B\n",
    "length2=20\n",
    "degrees2=0\n",
    "radians2=(3.142*degrees2)/180\n",
    "print(radians2)\n",
    "\n",
    "# C\n",
    "length3=24\n",
    "degrees3=45\n",
    "radians3=(3.142*degrees3)/180\n",
    "print(radians3)\n",
    "\n",
    "# D\n",
    "length4=24\n",
    "degrees4=80\n",
    "radians4=(3.142*degrees4)/180\n",
    "print(radians4)"
   ]
  },
  {
   "cell_type": "markdown",
   "metadata": {},
   "source": [
    "# EX 2.28"
   ]
  },
  {
   "cell_type": "code",
   "execution_count": 16,
   "metadata": {},
   "outputs": [
    {
     "name": "stdout",
     "output_type": "stream",
     "text": [
      "2\n",
      "3\n",
      "['5', '4', '3', '2', '1']\n",
      "['4', '3', '2', '1', '1']\n"
     ]
    }
   ],
   "source": [
    "# A\n",
    "list=['1','2','3','4','5']\n",
    "print(list.index('3'))\n",
    "\n",
    "# B\n",
    "print(list[2])\n",
    "\n",
    "# C\n",
    "list.sort(reverse=True)\n",
    "print(list)\n",
    "\n",
    "# D\n",
    "list.remove(list[0])\n",
    "list.insert(4,'1')\n",
    "print(list)"
   ]
  },
  {
   "cell_type": "markdown",
   "metadata": {},
   "source": [
    "# EX 2.31"
   ]
  },
  {
   "cell_type": "code",
   "execution_count": 15,
   "metadata": {},
   "outputs": [
    {
     "data": {
      "text/plain": [
       "[2, 3, 4, 5, 6]"
      ]
     },
     "execution_count": 15,
     "metadata": {},
     "output_type": "execute_result"
    }
   ],
   "source": [
    "lst=[2,3,4]\n",
    "lst.extend([5,6])\n",
    "lst\n",
    "[2,3,4,5,6]\n",
    "lst2=lst.copy()\n",
    "lst2\n",
    "[2,3,4,5,6]\n",
    "lst.clear()\n",
    "lst\n",
    "[]\n",
    "lst2\n",
    "[2,3,4,5,6]"
   ]
  },
  {
   "cell_type": "markdown",
   "metadata": {},
   "source": [
    "# EX 2.29"
   ]
  },
  {
   "cell_type": "code",
   "execution_count": 24,
   "metadata": {},
   "outputs": [
    {
     "name": "stdout",
     "output_type": "stream",
     "text": [
      "True\n",
      "True\n",
      "True\n"
     ]
    }
   ],
   "source": [
    "# A\n",
    "a=0==(1==2)\n",
    "print(a)\n",
    "\n",
    "# B\n",
    "b=2+(3==4)+5==7\n",
    "print(b)\n",
    "\n",
    "# C\n",
    "c=(1<-1)==(3>4)\n",
    "print(c)"
   ]
  }
 ],
 "metadata": {
  "kernelspec": {
   "display_name": "Python 3",
   "language": "python",
   "name": "python3"
  },
  "language_info": {
   "codemirror_mode": {
    "name": "ipython",
    "version": 3
   },
   "file_extension": ".py",
   "mimetype": "text/x-python",
   "name": "python",
   "nbconvert_exporter": "python",
   "pygments_lexer": "ipython3",
   "version": "3.7.3"
  }
 },
 "nbformat": 4,
 "nbformat_minor": 2
}
